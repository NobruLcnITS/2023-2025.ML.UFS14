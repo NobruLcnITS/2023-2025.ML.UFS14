{
 "cells": [
  {
   "cell_type": "code",
   "execution_count": null,
   "id": "169e78a8",
   "metadata": {},
   "outputs": [],
   "source": [
    "print(\"h\\ello world\")"
   ]
  },
  {
   "cell_type": "code",
   "execution_count": null,
   "id": "ebdf1318",
   "metadata": {},
   "outputs": [],
   "source": [
    "!python --version"
   ]
  },
  {
   "cell_type": "code",
   "execution_count": null,
   "id": "2422cf99",
   "metadata": {},
   "outputs": [],
   "source": [
    "from sagemaker import image_uris\n",
    "image_uris.retrieve(framework='tensorflow',region='us-east-1',version='1.12.0',image_scope='inference',instance_type='ml.c5.4xlarge')\n"
   ]
  },
  {
   "cell_type": "code",
   "execution_count": null,
   "id": "6ba14144",
   "metadata": {},
   "outputs": [],
   "source": [
    "!docker pull 520713654638.dkr.ecr.us-east-1.amazonaws.com/sagemaker-tensorflow-serving:1.12.0-cpu"
   ]
  },
  {
   "cell_type": "code",
   "execution_count": null,
   "id": "49a0813f",
   "metadata": {},
   "outputs": [],
   "source": [
    "!aws ecr get-login-password --region us-east-1 | docker login --username AWS --password-stdin 520713654638.dkr.ecr.us-east-1.amazonaws.com"
   ]
  },
  {
   "cell_type": "code",
   "execution_count": null,
   "id": "4d61d956",
   "metadata": {},
   "outputs": [],
   "source": [
    "!docker pull 520713654638.dkr.ecr.us-east-1.amazonaws.com/sagemaker-tensorflow-serving:1.12.0-cpu"
   ]
  }
 ],
 "metadata": {
  "kernelspec": {
   "display_name": "conda_python3",
   "language": "python",
   "name": "conda_python3"
  },
  "language_info": {
   "codemirror_mode": {
    "name": "ipython",
    "version": 3
   },
   "file_extension": ".py",
   "mimetype": "text/x-python",
   "name": "python",
   "nbconvert_exporter": "python",
   "pygments_lexer": "ipython3",
   "version": "3.10.14"
  }
 },
 "nbformat": 4,
 "nbformat_minor": 5
}
